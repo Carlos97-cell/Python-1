{
  "cells": [
    {
      "cell_type": "markdown",
      "metadata": {
        "id": "1pCTdOHonv5f"
      },
      "source": [
        "# Módulo 2\n",
        "\n",
        "## 2.3 Instruções e Expressões\n",
        "\n",
        "### Q1\n",
        "\n",
        "Faça um programa que armazene o valor de 20 reais de salário por hora de um trabalhador, e o número de 40 horas trabalhadas na semana. Com essas informações, calcule e imprima:\n",
        "- Salário semanal bruto\n",
        "- Valor descontado por semana INSS (10% do bruto)\n",
        "- Valor descontado por semana pelo sindicato (5% do bruto)\n",
        "- Salário semanal líquido (Bruto - Descontos)"
      ]
    },
    {
      "cell_type": "code",
      "execution_count": 4,
      "metadata": {
        "id": "hVbX0I97nj6M"
      },
      "outputs": [
        {
          "name": "stdout",
          "output_type": "stream",
          "text": [
            "<class 'int'>\n",
            "<class 'int'>\n",
            "2.5\n",
            "<class 'float'>\n"
          ]
        }
      ],
      "source": [
        "## Escreva e execute seu código aqui\n",
        "v1 = 5\n",
        "v2 = 2\n",
        "print(type(v1))\n",
        "print(type(v2))\n",
        "\n",
        "divisao = v1 / v2 \n",
        "print (divisao)\n",
        "print (type(divisao))"
      ]
    },
    {
      "cell_type": "markdown",
      "metadata": {
        "id": "pIxKX9J2oGZ1"
      },
      "source": [
        "### Q2\n",
        "\n",
        "Altere o programa anterior para a partir dos valores de horas trabalhadas por semana e salário por hora, calcular **em somente duas instruções**:\n",
        "- Salário semanal bruto\n",
        "- Salário semanal líquido com todos os descontos. Para a segunda instrução, realize todos os cálculos aritméticos em uma expressão composta.\n"
      ]
    },
    {
      "cell_type": "code",
      "execution_count": 2,
      "metadata": {
        "id": "pAHw9Xf9oGoi"
      },
      "outputs": [
        {
          "name": "stdout",
          "output_type": "stream",
          "text": [
            "Salário Bruto: R$ 800\n",
            "Salário Líquido: R$ 680.0\n"
          ]
        }
      ],
      "source": [
        "## Escreva e execute seu código aqui\n",
        "\n",
        "salario_por_hora = 20\n",
        "horas_trabalhadas = 40\n",
        "\n",
        "\n",
        "salario_bruto = salario_por_hora * horas_trabalhadas\n",
        "salario_liquido = salario_bruto - (salario_bruto * 0.10 + salario_bruto * 0.05)\n",
        "\n",
        "\n",
        "print(\"Salário Bruto: R$\", salario_bruto)\n",
        "print(\"Salário Líquido: R$\", salario_liquido)"
      ]
    },
    {
      "cell_type": "markdown",
      "metadata": {
        "id": "m8tlHRuWpBOB"
      },
      "source": [
        "### Q3\n",
        "\n",
        "Você está desenvolvendo um software de conversão de moeda e precisa calcular o valor equivalente em yuan chinês a partir de uma quantia em real. A taxa de câmbio é de 0.69 BRL (real) para 1 CNY (yuan). Escreva um programa que define em uma variável uma quantia em reais (BRL) e calcula o valor equivalente em yuan (CNY). Imprima o resultado."
      ]
    },
    {
      "cell_type": "code",
      "execution_count": 1,
      "metadata": {
        "id": "2bPw7uF6oeL9"
      },
      "outputs": [
        {
          "name": "stdout",
          "output_type": "stream",
          "text": [
            "R$100.00 equivalem a aproximadamente ¥144.93 yuan.\n"
          ]
        }
      ],
      "source": [
        "## Escreva e execute seu código aqui\n",
        "# Quantia em reais (BRL)\n",
        "valor_em_reais = 100.0  \n",
        "\n",
        "taxa_de_cambio = 0.69\n",
        "\n",
        "\n",
        "valor_em_yuan = valor_em_reais / taxa_de_cambio\n",
        "\n",
        "print(f\"R${valor_em_reais:.2f} equivalem a aproximadamente ¥{valor_em_yuan:.2f} yuan.\")\n"
      ]
    },
    {
      "cell_type": "markdown",
      "metadata": {
        "id": "-Na3ltDCp74A"
      },
      "source": [
        "### Q4\n",
        "\n",
        "Você é um treinador de corrida e deseja calcular a velocidade média que um atleta precisa manter para completar a Maratona Internacional de São Silvestre, que tem uma distância total de 42.195 km. A fórmula para calcular a velocidade média ($v\\_media$) é dada por $v\\_media = \\frac{distancia}{tempo}$ . Escreva um programa em Python para calcular a velocidade média necessária para completar a maratona em 3 horas.\n",
        "\n",
        "**Calcule e imprima o resultado em metros/segundo**, ou seja, converta a distância de quilômetros para metros ($metro = \\frac{km}{1000}$) e a velocidade de horas para segundos $(segundo = \\frac{hora}{3600})$."
      ]
    },
    {
      "cell_type": "code",
      "execution_count": 3,
      "metadata": {
        "id": "Bn6l8kcSrE4L"
      },
      "outputs": [
        {
          "name": "stdout",
          "output_type": "stream",
          "text": [
            "A velocidade média necessária é de 3.91 metros por segundo.\n"
          ]
        }
      ],
      "source": [
        "## Escreva e execute seu código aqui\n",
        "distancia_metros = 42_195  \n",
        "\n",
        "tempo_segundos = 3 * 60 * 60  \n",
        "\n",
        "velocidade_media = distancia_metros / tempo_segundos\n",
        "\n",
        "print(f\"A velocidade média necessária é de {velocidade_media:.2f} metros por segundo.\")\n"
      ]
    }
  ],
  "metadata": {
    "colab": {
      "provenance": []
    },
    "kernelspec": {
      "display_name": "Python 3",
      "name": "python3"
    },
    "language_info": {
      "codemirror_mode": {
        "name": "ipython",
        "version": 3
      },
      "file_extension": ".py",
      "mimetype": "text/x-python",
      "name": "python",
      "nbconvert_exporter": "python",
      "pygments_lexer": "ipython3",
      "version": "3.12.2"
    }
  },
  "nbformat": 4,
  "nbformat_minor": 0
}
